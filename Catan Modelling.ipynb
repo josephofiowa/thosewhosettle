{
 "cells": [
  {
   "cell_type": "code",
   "execution_count": null,
   "metadata": {},
   "outputs": [],
   "source": [
    "#Standard Imports"
   ]
  },
  {
   "cell_type": "code",
   "execution_count": 74,
   "metadata": {},
   "outputs": [],
   "source": [
    "import pandas as pd\n",
    "import numpy as np\n",
    "import matplotlib.pyplot as plt\n",
    "import seaborn as sns\n"
   ]
  },
  {
   "cell_type": "code",
   "execution_count": null,
   "metadata": {},
   "outputs": [],
   "source": [
    "#import raw data and perform relevant transformations"
   ]
  },
  {
   "cell_type": "code",
   "execution_count": 123,
   "metadata": {
    "scrolled": true
   },
   "outputs": [],
   "source": [
    "raw_data = pd.read_csv(\"C:/Users/austi/Desktop/Catan R/rawplayer0919.csv\",encoding='cp1252')\n",
    "\n",
    "raw_data.fillna(0,inplace=True)\n",
    "\n",
    "cols = [i for i in raw_data.columns if i not in ['Player']]\n",
    "for col in cols:\n",
    "    raw_data[col] = pd.to_numeric(raw_data[col])"
   ]
  },
  {
   "cell_type": "code",
   "execution_count": 124,
   "metadata": {},
   "outputs": [],
   "source": [
    "game_data=pd.read_csv(\"C:/Users/austi/Desktop/Catan R/rawgamelog0919.csv\",encoding='cp1252')\n",
    "\n",
    "pd.to_datetime(game_data.Date,errors='coerce')\n",
    "\n",
    "mean_duration = np.mean(game_data.Hours.dropna())\n",
    "\n",
    "game_data.Hours.fillna(mean_duration,inplace=True)\n",
    "\n",
    "game_data.fillna(0,inplace=True)\n"
   ]
  },
  {
   "cell_type": "code",
   "execution_count": 126,
   "metadata": {},
   "outputs": [],
   "source": [
    "full_data =pd.merge(game_data,raw_data,left_on='Game ID',right_on='Game ID')    "
   ]
  },
  {
   "cell_type": "code",
   "execution_count": 127,
   "metadata": {},
   "outputs": [
    {
     "name": "stdout",
     "output_type": "stream",
     "text": [
      "<class 'pandas.core.frame.DataFrame'>\n",
      "Int64Index: 573 entries, 0 to 572\n",
      "Data columns (total 28 columns):\n",
      "Game ID                  573 non-null int64\n",
      "Date                     573 non-null object\n",
      "Location                 573 non-null object\n",
      "Duration                 573 non-null object\n",
      "Hours                    573 non-null float64\n",
      "# Players                573 non-null int64\n",
      "Winner                   573 non-null object\n",
      "Qualified Game?          573 non-null int64\n",
      "Win Type                 573 non-null object\n",
      "Fish?                    573 non-null float64\n",
      "Harbormaster?            573 non-null float64\n",
      "Camels?                  573 non-null float64\n",
      "Barbarians?              573 non-null float64\n",
      "Cities&Knights           573 non-null float64\n",
      "Notes                    573 non-null object\n",
      "High Key Rating, 1-10    573 non-null float64\n",
      "Player                   573 non-null object\n",
      "Result                   573 non-null int64\n",
      "Score                    573 non-null float64\n",
      "Longest Road?            573 non-null float64\n",
      "Largest Army?            573 non-null float64\n",
      "Began on SFV?            573 non-null float64\n",
      ">2 Beers?                573 non-null float64\n",
      "Boot                     573 non-null float64\n",
      "Order                    573 non-null float64\n",
      "First Mover?             573 non-null float64\n",
      "Prisoners                573 non-null float64\n",
      "Dev Cards                573 non-null float64\n",
      "dtypes: float64(17), int64(4), object(7)\n",
      "memory usage: 129.8+ KB\n"
     ]
    }
   ],
   "source": [
    "full_data.info()"
   ]
  },
  {
   "cell_type": "code",
   "execution_count": 136,
   "metadata": {},
   "outputs": [],
   "source": [
    "no_fish = full_data['Fish?']==0\n",
    "no_barb = full_data['Barbarians?']==0\n",
    "no_cam = full_data['Camels?']==0\n",
    "no_ck = full_data['Cities&Knights']==0\n",
    "no_harb = full_data['Harbormaster?']==0\n",
    "qual = full_data['Qualified Game?']==1"
   ]
  },
  {
   "cell_type": "code",
   "execution_count": 137,
   "metadata": {},
   "outputs": [],
   "source": [
    "#filter to vanilla games\n",
    "van_games = full_data[no_fish&no_barb&no_cam&no_ck&no_harb&qual]"
   ]
  },
  {
   "cell_type": "code",
   "execution_count": 329,
   "metadata": {},
   "outputs": [],
   "source": [
    "#only numeric data for analysis\n",
    "numerics = ['int16', 'int32', 'int64', 'float16', 'float32', 'float64']\n",
    "van_games_num = van_games.select_dtypes(include=numerics)"
   ]
  },
  {
   "cell_type": "code",
   "execution_count": 330,
   "metadata": {},
   "outputs": [],
   "source": [
    "van_games_num.Order= van_games_num.Order.astype('category')\n",
    "van_games_num_dum = pd.get_dummies(van_games_num)"
   ]
  },
  {
   "cell_type": "code",
   "execution_count": 346,
   "metadata": {},
   "outputs": [],
   "source": [
    "van_games_num_dum.loc[van_games_num_dum['Longest Road?'] > 0, 'Longest Road?'] = 1"
   ]
  },
  {
   "cell_type": "code",
   "execution_count": null,
   "metadata": {},
   "outputs": [],
   "source": [
    "#EDA"
   ]
  },
  {
   "cell_type": "code",
   "execution_count": 348,
   "metadata": {
    "scrolled": true
   },
   "outputs": [
    {
     "data": {
      "text/plain": [
       "<matplotlib.axes._subplots.AxesSubplot at 0x1c51b10ba20>"
      ]
     },
     "execution_count": 348,
     "metadata": {},
     "output_type": "execute_result"
    },
    {
     "data": {
      "image/png": "[encoded data removed]",
      "text/plain": [
       "<Figure size 432x288 with 1 Axes>"
      ]
     },
     "metadata": {
      "needs_background": "light"
     },
     "output_type": "display_data"
    }
   ],
   "source": [
    "player_result_percentage = full_data.pivot_table(values='Result',index='Player',aggfunc=np.mean)\n",
    "\n",
    "player_result_percentage.plot(kind='bar')"
   ]
  },
  {
   "cell_type": "code",
   "execution_count": 143,
   "metadata": {},
   "outputs": [
    {
     "data": {
      "text/plain": [
       "<matplotlib.axes._subplots.AxesSubplot at 0x1c51910fef0>"
      ]
     },
     "execution_count": 143,
     "metadata": {},
     "output_type": "execute_result"
    },
    {
     "data": {
      "image/png": "[encoded data removed]",
      "text/plain": [
       "<Figure size 432x288 with 1 Axes>"
      ]
     },
     "metadata": {
      "needs_background": "light"
     },
     "output_type": "display_data"
    }
   ],
   "source": [
    "full_data[full_data['High Key Rating, 1-10']!=0].plot(kind='scatter',x='Hours', y='High Key Rating, 1-10')"
   ]
  },
  {
   "cell_type": "code",
   "execution_count": 133,
   "metadata": {},
   "outputs": [
    {
     "data": {
      "text/plain": [
       "array([[<matplotlib.axes._subplots.AxesSubplot object at 0x000001C515861C50>]],\n",
       "      dtype=object)"
      ]
     },
     "execution_count": 133,
     "metadata": {},
     "output_type": "execute_result"
    },
    {
     "data": {
      "image/png": "[encoded data removed]",
      "text/plain": [
       "<Figure size 432x288 with 1 Axes>"
      ]
     },
     "metadata": {
      "needs_background": "light"
     },
     "output_type": "display_data"
    }
   ],
   "source": [
    "full_data.hist('Hours')"
   ]
  },
  {
   "cell_type": "code",
   "execution_count": null,
   "metadata": {},
   "outputs": [],
   "source": [
    "#ML Imports"
   ]
  },
  {
   "cell_type": "code",
   "execution_count": 225,
   "metadata": {},
   "outputs": [],
   "source": [
    "from sklearn.tree import DecisionTreeClassifier\n",
    "from sklearn.ensemble import RandomForestClassifier\n",
    "from sklearn.model_selection import train_test_split\n",
    "from sklearn.metrics import classification_report, confusion_matrix, accuracy_score\n",
    "from sklearn.pipeline import make_pipeline\n",
    "from sklearn.preprocessing import StandardScaler"
   ]
  },
  {
   "cell_type": "code",
   "execution_count": 369,
   "metadata": {},
   "outputs": [],
   "source": [
    "X = van_games_num_dum.drop(['Score','Result','Game ID','Hours','# Players','High Key Rating, 1-10','Prisoners','Order_0.0','Order_7.0'],axis=1).values"
   ]
  },
  {
   "cell_type": "code",
   "execution_count": 370,
   "metadata": {},
   "outputs": [],
   "source": [
    "y= van_games_num_dum.Result.values"
   ]
  },
  {
   "cell_type": "code",
   "execution_count": 371,
   "metadata": {},
   "outputs": [],
   "source": [
    "X_train, X_test, y_train, y_test = train_test_split(X,y,test_size=0.2,random_state=18)"
   ]
  },
  {
   "cell_type": "code",
   "execution_count": 372,
   "metadata": {},
   "outputs": [],
   "source": [
    "rfc = RandomForestClassifier(n_estimators = 500,criterion = 'gini', min_samples_leaf = 0.05)"
   ]
  },
  {
   "cell_type": "code",
   "execution_count": 373,
   "metadata": {},
   "outputs": [],
   "source": [
    "scaler = StandardScaler()"
   ]
  },
  {
   "cell_type": "code",
   "execution_count": 374,
   "metadata": {},
   "outputs": [],
   "source": [
    "pipeline = make_pipeline(scaler,rfc)"
   ]
  },
  {
   "cell_type": "code",
   "execution_count": 375,
   "metadata": {},
   "outputs": [
    {
     "data": {
      "text/plain": [
       "Pipeline(memory=None,\n",
       "     steps=[('standardscaler', StandardScaler(copy=True, with_mean=True, with_std=True)), ('randomforestclassifier', RandomForestClassifier(bootstrap=True, class_weight=None, criterion='gini',\n",
       "            max_depth=None, max_features='auto', max_leaf_nodes=None,\n",
       "            min_impurity_decrease=0.0, min...obs=None,\n",
       "            oob_score=False, random_state=None, verbose=0,\n",
       "            warm_start=False))])"
      ]
     },
     "execution_count": 375,
     "metadata": {},
     "output_type": "execute_result"
    }
   ],
   "source": [
    "pipeline.fit(X_train,y_train)"
   ]
  },
  {
   "cell_type": "code",
   "execution_count": 376,
   "metadata": {},
   "outputs": [],
   "source": [
    "y_pred = pipeline.predict(X_test)"
   ]
  },
  {
   "cell_type": "code",
   "execution_count": 398,
   "metadata": {},
   "outputs": [
    {
     "name": "stdout",
     "output_type": "stream",
     "text": [
      "0.7558139534883721\n"
     ]
    }
   ],
   "source": [
    "accuracy = accuracy_score(y_test,y_pred)\n",
    "print(accuracy)"
   ]
  },
  {
   "cell_type": "code",
   "execution_count": 378,
   "metadata": {},
   "outputs": [
    {
     "name": "stdout",
     "output_type": "stream",
     "text": [
      "                 importance\n",
      "First Mover?       0.371547\n",
      "Dev Cards          0.194668\n",
      "Largest Army?      0.133272\n",
      "Longest Road?      0.087696\n",
      "Order_4.0          0.044212\n",
      ">2 Beers?          0.039509\n",
      "Order_2.0          0.038235\n",
      "Order_1.0          0.033402\n",
      "Order_3.0          0.026817\n",
      "Order_5.0          0.000642\n",
      "Qualified Game?    0.000000\n",
      "Boot               0.000000\n",
      "Fish?              0.000000\n",
      "Began on SFV?      0.000000\n",
      "Cities&Knights     0.000000\n",
      "Barbarians?        0.000000\n",
      "Camels?            0.000000\n",
      "Harbormaster?      0.000000\n",
      "Order_6.0          0.000000\n"
     ]
    }
   ],
   "source": [
    "features_importances = pd.DataFrame(rfc.feature_importances_,index=van_games_num_dum.drop(['Score','Result','Game ID','Hours','# Players','High Key Rating, 1-10','Prisoners','Order_0.0','Order_7.0'],axis=1).columns,columns=['importance']).sort_values('importance',ascending=False)\n",
    "print(features_importances.sort_values('importance',ascending=False))"
   ]
  },
  {
   "cell_type": "code",
   "execution_count": 379,
   "metadata": {},
   "outputs": [
    {
     "data": {
      "text/plain": [
       "<matplotlib.axes._subplots.AxesSubplot at 0x1c51c7ca9b0>"
      ]
     },
     "execution_count": 379,
     "metadata": {},
     "output_type": "execute_result"
    },
    {
     "data": {
      "image/png": "[encoded data removed]",
      "text/plain": [
       "<Figure size 432x288 with 1 Axes>"
      ]
     },
     "metadata": {
      "needs_background": "light"
     },
     "output_type": "display_data"
    }
   ],
   "source": [
    "features_importances[0:6].sort_values('importance',ascending=True).plot(kind='barh',title='Contribution of Variable to Win Prediction')"
   ]
  },
  {
   "cell_type": "code",
   "execution_count": 380,
   "metadata": {},
   "outputs": [],
   "source": [
    "from sklearn.linear_model import LogisticRegression\n",
    "\n",
    "lr = LogisticRegression()"
   ]
  },
  {
   "cell_type": "code",
   "execution_count": 381,
   "metadata": {},
   "outputs": [],
   "source": [
    "pipeline_lr = make_pipeline(scaler,lr)"
   ]
  },
  {
   "cell_type": "code",
   "execution_count": 382,
   "metadata": {},
   "outputs": [
    {
     "name": "stderr",
     "output_type": "stream",
     "text": [
      "C:\\Users\\austi\\Anaconda3\\lib\\site-packages\\sklearn\\linear_model\\logistic.py:433: FutureWarning: Default solver will be changed to 'lbfgs' in 0.22. Specify a solver to silence this warning.\n",
      "  FutureWarning)\n"
     ]
    },
    {
     "data": {
      "text/plain": [
       "Pipeline(memory=None,\n",
       "     steps=[('standardscaler', StandardScaler(copy=True, with_mean=True, with_std=True)), ('logisticregression', LogisticRegression(C=1.0, class_weight=None, dual=False, fit_intercept=True,\n",
       "          intercept_scaling=1, max_iter=100, multi_class='warn',\n",
       "          n_jobs=None, penalty='l2', random_state=None, solver='warn',\n",
       "          tol=0.0001, verbose=0, warm_start=False))])"
      ]
     },
     "execution_count": 382,
     "metadata": {},
     "output_type": "execute_result"
    }
   ],
   "source": [
    "pipeline_lr.fit(X_train,y_train)"
   ]
  },
  {
   "cell_type": "code",
   "execution_count": 383,
   "metadata": {},
   "outputs": [],
   "source": [
    "importance = lr.coef_\n",
    "\n",
    "importance_df = pd.DataFrame(importance,columns=van_games_num_dum.drop(['Score','Result','Game ID','Hours','# Players','High Key Rating, 1-10','Prisoners','Order_0.0','Order_7.0'],axis=1).columns,index=['coef'])"
   ]
  },
  {
   "cell_type": "code",
   "execution_count": 385,
   "metadata": {},
   "outputs": [
    {
     "data": {
      "text/html": [
       "<div>\n",
       "<style scoped>\n",
       "    .dataframe tbody tr th:only-of-type {\n",
       "        vertical-align: middle;\n",
       "    }\n",
       "\n",
       "    .dataframe tbody tr th {\n",
       "        vertical-align: top;\n",
       "    }\n",
       "\n",
       "    .dataframe thead th {\n",
       "        text-align: right;\n",
       "    }\n",
       "</style>\n",
       "<table border=\"1\" class=\"dataframe\">\n",
       "  <thead>\n",
       "    <tr style=\"text-align: right;\">\n",
       "      <th></th>\n",
       "      <th>Qualified Game?</th>\n",
       "      <th>Fish?</th>\n",
       "      <th>Harbormaster?</th>\n",
       "      <th>Camels?</th>\n",
       "      <th>Barbarians?</th>\n",
       "      <th>Cities&amp;Knights</th>\n",
       "      <th>Longest Road?</th>\n",
       "      <th>Largest Army?</th>\n",
       "      <th>Began on SFV?</th>\n",
       "      <th>&gt;2 Beers?</th>\n",
       "      <th>Boot</th>\n",
       "      <th>First Mover?</th>\n",
       "      <th>Dev Cards</th>\n",
       "      <th>Order_1.0</th>\n",
       "      <th>Order_2.0</th>\n",
       "      <th>Order_3.0</th>\n",
       "      <th>Order_4.0</th>\n",
       "      <th>Order_5.0</th>\n",
       "      <th>Order_6.0</th>\n",
       "    </tr>\n",
       "  </thead>\n",
       "  <tbody>\n",
       "    <tr>\n",
       "      <th>coef</th>\n",
       "      <td>0.0</td>\n",
       "      <td>0.0</td>\n",
       "      <td>0.0</td>\n",
       "      <td>0.0</td>\n",
       "      <td>0.0</td>\n",
       "      <td>0.0</td>\n",
       "      <td>0.355384</td>\n",
       "      <td>0.343907</td>\n",
       "      <td>-0.192749</td>\n",
       "      <td>-0.118536</td>\n",
       "      <td>0.0</td>\n",
       "      <td>0.711877</td>\n",
       "      <td>0.279006</td>\n",
       "      <td>-0.300453</td>\n",
       "      <td>-0.178816</td>\n",
       "      <td>-0.31553</td>\n",
       "      <td>-0.488126</td>\n",
       "      <td>-0.168962</td>\n",
       "      <td>-0.0981</td>\n",
       "    </tr>\n",
       "  </tbody>\n",
       "</table>\n",
       "</div>"
      ],
      "text/plain": [
       "      Qualified Game?  Fish?  Harbormaster?  Camels?  Barbarians?  \\\n",
       "coef              0.0    0.0            0.0      0.0          0.0   \n",
       "\n",
       "      Cities&Knights  Longest Road?  Largest Army?  Began on SFV?  >2 Beers?  \\\n",
       "coef             0.0       0.355384       0.343907      -0.192749  -0.118536   \n",
       "\n",
       "      Boot  First Mover?  Dev Cards  Order_1.0  Order_2.0  Order_3.0  \\\n",
       "coef   0.0      0.711877   0.279006  -0.300453  -0.178816   -0.31553   \n",
       "\n",
       "      Order_4.0  Order_5.0  Order_6.0  \n",
       "coef  -0.488126  -0.168962    -0.0981  "
      ]
     },
     "execution_count": 385,
     "metadata": {},
     "output_type": "execute_result"
    }
   ],
   "source": [
    "importance_df"
   ]
  },
  {
   "cell_type": "code",
   "execution_count": 384,
   "metadata": {},
   "outputs": [
    {
     "data": {
      "text/plain": [
       "<matplotlib.legend.Legend at 0x1c51c8f2a90>"
      ]
     },
     "execution_count": 384,
     "metadata": {},
     "output_type": "execute_result"
    },
    {
     "data": {
      "image/png": "[encoded data removed]",
      "text/plain": [
       "<Figure size 432x288 with 1 Axes>"
      ]
     },
     "metadata": {
      "needs_background": "light"
     },
     "output_type": "display_data"
    }
   ],
   "source": [
    "importance_df[importance_df!=0].sort_values('coef',axis=1).plot(kind='bar')\n",
    "plt.legend(loc='center left', bbox_to_anchor=(1, 0.5))\n"
   ]
  },
  {
   "cell_type": "code",
   "execution_count": 392,
   "metadata": {},
   "outputs": [],
   "source": [
    "from sklearn.metrics import mean_squared_error as MSE\n",
    "from sklearn.metrics import accuracy_score"
   ]
  },
  {
   "cell_type": "code",
   "execution_count": 388,
   "metadata": {},
   "outputs": [],
   "source": [
    "y_pred_lr = pipeline_lr.predict(X_test)\n",
    "\n",
    "\n",
    "mse = MSE(y_test,y_pred_lr)**.5"
   ]
  },
  {
   "cell_type": "code",
   "execution_count": 391,
   "metadata": {},
   "outputs": [
    {
     "name": "stdout",
     "output_type": "stream",
     "text": [
      "0.47003216119552876\n"
     ]
    }
   ],
   "source": [
    "print(mse)"
   ]
  },
  {
   "cell_type": "code",
   "execution_count": 397,
   "metadata": {},
   "outputs": [
    {
     "name": "stdout",
     "output_type": "stream",
     "text": [
      "0.7790697674418605\n"
     ]
    }
   ],
   "source": [
    "accuracy_lr = accuracy_score(y_test,y_pred_lr)"
   ]
  },
  {
   "cell_type": "code",
   "execution_count": 412,
   "metadata": {},
   "outputs": [
    {
     "name": "stdout",
     "output_type": "stream",
     "text": [
      "                            0\n",
      "Random Forest        0.755814\n",
      "Logistic Regression  0.779070\n"
     ]
    }
   ],
   "source": [
    "accuracy_df = pd.DataFrame([accuracy,accuracy_lr],index=['Random Forest','Logistic Regression'])\n",
    "print(accuracy_df)"
   ]
  },
  {
   "cell_type": "code",
   "execution_count": 405,
   "metadata": {},
   "outputs": [],
   "source": [
    "statement = (\"Accuracy of the Random Forest is {x}, accuracy of the Logistic Regression is {y}\").format(x=round(accuracy,2),y=round(accuracy_lr,2))"
   ]
  },
  {
   "cell_type": "code",
   "execution_count": 421,
   "metadata": {},
   "outputs": [
    {
     "name": "stdout",
     "output_type": "stream",
     "text": [
      "Accuracy of the Random Forest is 0.76, accuracy of the Logistic Regression is 0.78\n"
     ]
    },
    {
     "data": {
      "text/plain": [
       "Text(0.5, 1.0, 'Accuracy Across Models')"
      ]
     },
     "execution_count": 421,
     "metadata": {},
     "output_type": "execute_result"
    },
    {
     "data": {
      "image/png": "[encoded data removed]",
      "text/plain": [
       "<Figure size 432x288 with 1 Axes>"
      ]
     },
     "metadata": {
      "needs_background": "light"
     },
     "output_type": "display_data"
    }
   ],
   "source": [
    "print(statement)\n",
    "\n",
    "accuracy_df.plot(kind='bar',legend=False)\n",
    "plt.title('Accuracy Across Models')"
   ]
  }
 ],
 "metadata": {
  "kernelspec": {
   "display_name": "Python 3",
   "language": "python",
   "name": "python3"
  },
  "language_info": {
   "codemirror_mode": {
    "name": "ipython",
    "version": 3
   },
   "file_extension": ".py",
   "mimetype": "text/x-python",
   "name": "python",
   "nbconvert_exporter": "python",
   "pygments_lexer": "ipython3",
   "version": "3.7.3"
  }
 },
 "nbformat": 4,
 "nbformat_minor": 2
}
