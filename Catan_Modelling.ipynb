{
 "cells": [
  {
   "cell_type": "code",
   "execution_count": null,
   "metadata": {},
   "outputs": [],
   "source": [
    "#Standard Imports"
   ]
  },
  {
   "cell_type": "code",
   "execution_count": 74,
   "metadata": {},
   "outputs": [],
   "source": [
    "import pandas as pd\n",
    "import numpy as np\n",
    "import matplotlib.pyplot as plt\n",
    "import seaborn as sns\n"
   ]
  },
  {
   "cell_type": "code",
   "execution_count": null,
   "metadata": {},
   "outputs": [],
   "source": [
    "#import raw data and perform relevant transformations"
   ]
  },
  {
   "cell_type": "code",
   "execution_count": 123,
   "metadata": {
    "scrolled": true
   },
   "outputs": [],
   "source": [
    "raw_data = pd.read_csv(\"C:/Users/austi/Desktop/Catan R/rawplayer0919.csv\",encoding='cp1252')\n",
    "\n",
    "raw_data.fillna(0,inplace=True)\n",
    "\n",
    "cols = [i for i in raw_data.columns if i not in ['Player']]\n",
    "for col in cols:\n",
    "    raw_data[col] = pd.to_numeric(raw_data[col])"
   ]
  },
  {
   "cell_type": "code",
   "execution_count": 124,
   "metadata": {},
   "outputs": [],
   "source": [
    "game_data=pd.read_csv(\"C:/Users/austi/Desktop/Catan R/rawgamelog0919.csv\",encoding='cp1252')\n",
    "\n",
    "pd.to_datetime(game_data.Date,errors='coerce')\n",
    "\n",
    "mean_duration = np.mean(game_data.Hours.dropna())\n",
    "\n",
    "game_data.Hours.fillna(mean_duration,inplace=True)\n",
    "\n",
    "game_data.fillna(0,inplace=True)\n"
   ]
  },
  {
   "cell_type": "code",
   "execution_count": 126,
   "metadata": {},
   "outputs": [],
   "source": [
    "full_data =pd.merge(game_data,raw_data,left_on='Game ID',right_on='Game ID')    "
   ]
  },
  {
   "cell_type": "code",
   "execution_count": 127,
   "metadata": {},
   "outputs": [
    {
     "name": "stdout",
     "output_type": "stream",
     "text": [
      "<class 'pandas.core.frame.DataFrame'>\n",
      "Int64Index: 573 entries, 0 to 572\n",
      "Data columns (total 28 columns):\n",
      "Game ID                  573 non-null int64\n",
      "Date                     573 non-null object\n",
      "Location                 573 non-null object\n",
      "Duration                 573 non-null object\n",
      "Hours                    573 non-null float64\n",
      "# Players                573 non-null int64\n",
      "Winner                   573 non-null object\n",
      "Qualified Game?          573 non-null int64\n",
      "Win Type                 573 non-null object\n",
      "Fish?                    573 non-null float64\n",
      "Harbormaster?            573 non-null float64\n",
      "Camels?                  573 non-null float64\n",
      "Barbarians?              573 non-null float64\n",
      "Cities&Knights           573 non-null float64\n",
      "Notes                    573 non-null object\n",
      "High Key Rating, 1-10    573 non-null float64\n",
      "Player                   573 non-null object\n",
      "Result                   573 non-null int64\n",
      "Score                    573 non-null float64\n",
      "Longest Road?            573 non-null float64\n",
      "Largest Army?            573 non-null float64\n",
      "Began on SFV?            573 non-null float64\n",
      ">2 Beers?                573 non-null float64\n",
      "Boot                     573 non-null float64\n",
      "Order                    573 non-null float64\n",
      "First Mover?             573 non-null float64\n",
      "Prisoners                573 non-null float64\n",
      "Dev Cards                573 non-null float64\n",
      "dtypes: float64(17), int64(4), object(7)\n",
      "memory usage: 129.8+ KB\n"
     ]
    }
   ],
   "source": [
    "full_data.info()"
   ]
  },
  {
   "cell_type": "code",
   "execution_count": 136,
   "metadata": {},
   "outputs": [],
   "source": [
    "no_fish = full_data['Fish?']==0\n",
    "no_barb = full_data['Barbarians?']==0\n",
    "no_cam = full_data['Camels?']==0\n",
    "no_ck = full_data['Cities&Knights']==0\n",
    "no_harb = full_data['Harbormaster?']==0\n",
    "qual = full_data['Qualified Game?']==1"
   ]
  },
  {
   "cell_type": "code",
   "execution_count": 137,
   "metadata": {},
   "outputs": [],
   "source": [
    "#filter to vanilla games\n",
    "van_games = full_data[no_fish&no_barb&no_cam&no_ck&no_harb&qual]"
   ]
  },
  {
   "cell_type": "code",
   "execution_count": 140,
   "metadata": {},
   "outputs": [],
   "source": [
    "#only numeric data for analysis\n",
    "numerics = ['int16', 'int32', 'int64', 'float16', 'float32', 'float64']\n",
    "van_games_num = van_games.select_dtypes(include=numerics)"
   ]
  },
  {
   "cell_type": "code",
   "execution_count": null,
   "metadata": {},
   "outputs": [],
   "source": [
    "#EDA"
   ]
  },
  {
   "cell_type": "code",
   "execution_count": 129,
   "metadata": {
    "scrolled": true
   },
   "outputs": [
    {
     "data": {
      "text/plain": [
       "Result    0.333333\n",
       "dtype: float64"
      ]
     },
     "execution_count": 129,
     "metadata": {},
     "output_type": "execute_result"
    },
    {
     "data": {
      "image/png": "[encoded data removed]",
      "text/plain": [
       "<Figure size 432x288 with 1 Axes>"
      ]
     },
     "metadata": {
      "needs_background": "light"
     },
     "output_type": "display_data"
    }
   ],
   "source": [
    "player_result_percentage = full_data.pivot_table(values='Result',index='Player',aggfunc=np.mean)\n",
    "\n",
    "player_result_percentage.plot(kind='bar')"
   ]
  },
  {
   "cell_type": "code",
   "execution_count": 143,
   "metadata": {},
   "outputs": [
    {
     "data": {
      "text/plain": [
       "<matplotlib.axes._subplots.AxesSubplot at 0x1c51910fef0>"
      ]
     },
     "execution_count": 143,
     "metadata": {},
     "output_type": "execute_result"
    },
    {
     "data": {
      "image/png": "[encoded data removed]",
      "text/plain": [
       "<Figure size 432x288 with 1 Axes>"
      ]
     },
     "metadata": {
      "needs_background": "light"
     },
     "output_type": "display_data"
    }
   ],
   "source": [
    "full_data[full_data['High Key Rating, 1-10']!=0].plot(kind='scatter',x='Hours', y='High Key Rating, 1-10')"
   ]
  },
  {
   "cell_type": "code",
   "execution_count": 133,
   "metadata": {},
   "outputs": [
    {
     "data": {
      "text/plain": [
       "array([[<matplotlib.axes._subplots.AxesSubplot object at 0x000001C515861C50>]],\n",
       "      dtype=object)"
      ]
     },
     "execution_count": 133,
     "metadata": {},
     "output_type": "execute_result"
    },
    {
     "data": {
      "image/png": "[encoded data removed]",
      "text/plain": [
       "<Figure size 432x288 with 1 Axes>"
      ]
     },
     "metadata": {
      "needs_background": "light"
     },
     "output_type": "display_data"
    }
   ],
   "source": [
    "full_data.hist('Hours')"
   ]
  },
  {
   "cell_type": "code",
   "execution_count": null,
   "metadata": {},
   "outputs": [],
   "source": [
    "#ML Imports"
   ]
  },
  {
   "cell_type": "code",
   "execution_count": 225,
   "metadata": {},
   "outputs": [],
   "source": [
    "from sklearn.tree import DecisionTreeClassifier\n",
    "from sklearn.ensemble import RandomForestClassifier\n",
    "from sklearn.model_selection import train_test_split\n",
    "from sklearn.metrics import classification_report, confusion_matrix, accuracy_score\n",
    "from sklearn.pipeline import make_pipeline\n",
    "from sklearn.preprocessing import StandardScaler"
   ]
  },
  {
   "cell_type": "code",
   "execution_count": 210,
   "metadata": {},
   "outputs": [],
   "source": [
    "X = van_games_num.drop(['Score','Result','Game ID','Hours','# Players','High Key Rating, 1-10'],axis=1).values"
   ]
  },
  {
   "cell_type": "code",
   "execution_count": 211,
   "metadata": {},
   "outputs": [],
   "source": [
    "y= van_games_num.Result.values"
   ]
  },
  {
   "cell_type": "code",
   "execution_count": 212,
   "metadata": {},
   "outputs": [],
   "source": [
    "X_train, X_test, y_train, y_test = train_test_split(X,y,test_size=0.2,random_state=18)"
   ]
  },
  {
   "cell_type": "code",
   "execution_count": 213,
   "metadata": {},
   "outputs": [],
   "source": [
    "rfc = RandomForestClassifier(n_estimators = 500,criterion = 'gini', min_samples_leaf = 0.05)"
   ]
  },
  {
   "cell_type": "code",
   "execution_count": 226,
   "metadata": {},
   "outputs": [],
   "source": [
    "scaler = StandardScaler()"
   ]
  },
  {
   "cell_type": "code",
   "execution_count": 228,
   "metadata": {},
   "outputs": [],
   "source": [
    "pipeline = make_pipeline(scaler,rfc)"
   ]
  },
  {
   "cell_type": "code",
   "execution_count": 229,
   "metadata": {},
   "outputs": [
    {
     "data": {
      "text/plain": [
       "Pipeline(memory=None,\n",
       "     steps=[('standardscaler', StandardScaler(copy=True, with_mean=True, with_std=True)), ('randomforestclassifier', RandomForestClassifier(bootstrap=True, class_weight=None, criterion='gini',\n",
       "            max_depth=None, max_features='auto', max_leaf_nodes=None,\n",
       "            min_impurity_decrease=0.0, min...obs=None,\n",
       "            oob_score=False, random_state=None, verbose=0,\n",
       "            warm_start=False))])"
      ]
     },
     "execution_count": 229,
     "metadata": {},
     "output_type": "execute_result"
    }
   ],
   "source": [
    "pipeline.fit(X_train,y_train)"
   ]
  },
  {
   "cell_type": "code",
   "execution_count": 231,
   "metadata": {},
   "outputs": [],
   "source": [
    "y_pred = pipeline.predict(X_test)"
   ]
  },
  {
   "cell_type": "code",
   "execution_count": 232,
   "metadata": {},
   "outputs": [
    {
     "name": "stdout",
     "output_type": "stream",
     "text": [
      "0.7558139534883721\n"
     ]
    }
   ],
   "source": [
    "accuracy = accuracy_score(y_test,y_pred)\n",
    "print(accuracy)"
   ]
  },
  {
   "cell_type": "code",
   "execution_count": 233,
   "metadata": {},
   "outputs": [
    {
     "name": "stdout",
     "output_type": "stream",
     "text": [
      "                 importance\n",
      "Longest Road?      0.318693\n",
      "First Mover?       0.238655\n",
      "Dev Cards          0.128940\n",
      "Largest Army?      0.089633\n",
      "Order              0.063594\n",
      ">2 Beers?          0.020485\n",
      "Qualified Game?    0.000000\n",
      "Fish?              0.000000\n",
      "Harbormaster?      0.000000\n",
      "Camels?            0.000000\n",
      "Barbarians?        0.000000\n",
      "Cities&Knights     0.000000\n",
      "Began on SFV?      0.000000\n",
      "Boot               0.000000\n",
      "Prisoners          0.000000\n"
     ]
    }
   ],
   "source": [
    "features_importances = pd.DataFrame(rfc.feature_importances_,index=van_games_num.drop(['Score','Result','Game ID','Hours','# Players','High Key Rating, 1-10'],axis=1).columns,columns=['importance']).sort_values('importance',ascending=False)\n",
    "print(features_importances.sort_values('importance',ascending=False))"
   ]
  },
  {
   "cell_type": "code",
   "execution_count": 234,
   "metadata": {},
   "outputs": [
    {
     "data": {
      "text/plain": [
       "<matplotlib.axes._subplots.AxesSubplot at 0x1c51a8c1240>"
      ]
     },
     "execution_count": 234,
     "metadata": {},
     "output_type": "execute_result"
    },
    {
     "data": {
      "image/png": "[encoded data removed]",
      "text/plain": [
       "<Figure size 432x288 with 1 Axes>"
      ]
     },
     "metadata": {
      "needs_background": "light"
     },
     "output_type": "display_data"
    }
   ],
   "source": [
    "features_importances[0:6].sort_values('importance',ascending=True).plot(kind='barh',title='Contribution of Variable to Win Prediction')"
   ]
  },
  {
   "cell_type": "code",
   "execution_count": null,
   "metadata": {},
   "outputs": [],
   "source": []
  }
 ],
 "metadata": {
  "kernelspec": {
   "display_name": "Python 3",
   "language": "python",
   "name": "python3"
  },
  "language_info": {
   "codemirror_mode": {
    "name": "ipython",
    "version": 3
   },
   "file_extension": ".py",
   "mimetype": "text/x-python",
   "name": "python",
   "nbconvert_exporter": "python",
   "pygments_lexer": "ipython3",
   "version": "3.7.3"
  }
 },
 "nbformat": 4,
 "nbformat_minor": 2
}
